{
 "cells": [
  {
   "cell_type": "markdown",
   "metadata": {},
   "source": [
    "## Part 1: Network Construction\n",
    "Nodes represent authors of academic papers.\n",
    "\n",
    "Edge from node A to B indicates a joint paper written by both.\n",
    "\n",
    "Edge weights are the number of papers they have written together."
   ]
  },
  {
   "cell_type": "code",
   "execution_count": 8,
   "metadata": {},
   "outputs": [],
   "source": [
    "import pandas as pd\n",
    "from itertools import combinations # to create unique co-author pairs from the list of authors for each paper\n",
    "from itertools import chain # to flatten the list of lists of co-author pairs efficiently\n",
    "from collections import Counter # to count each co-author pair\n",
    "import networkx as nx\n",
    "import json\n",
    "from networkx.readwrite import json_graph\n",
    "import numpy as np\n",
    "from scipy import stats\n"
   ]
  },
  {
   "cell_type": "markdown",
   "metadata": {},
   "source": [
    "##### Create a weighted edgelist"
   ]
  },
  {
   "cell_type": "code",
   "execution_count": 9,
   "metadata": {},
   "outputs": [],
   "source": [
    "# Read the data\n",
    "df_papers = pd.read_csv('IC2S2_combined_papers.csv')\n",
    "df_authors = pd.read_csv('IC2S2_combined_authors.csv')"
   ]
  },
  {
   "cell_type": "code",
   "execution_count": 10,
   "metadata": {},
   "outputs": [
    {
     "data": {
      "text/html": [
       "<div>\n",
       "<style scoped>\n",
       "    .dataframe tbody tr th:only-of-type {\n",
       "        vertical-align: middle;\n",
       "    }\n",
       "\n",
       "    .dataframe tbody tr th {\n",
       "        vertical-align: top;\n",
       "    }\n",
       "\n",
       "    .dataframe thead th {\n",
       "        text-align: right;\n",
       "    }\n",
       "</style>\n",
       "<table border=\"1\" class=\"dataframe\">\n",
       "  <thead>\n",
       "    <tr style=\"text-align: right;\">\n",
       "      <th></th>\n",
       "      <th>id</th>\n",
       "      <th>publication_year</th>\n",
       "      <th>cited_by_count</th>\n",
       "      <th>author_ids</th>\n",
       "    </tr>\n",
       "  </thead>\n",
       "  <tbody>\n",
       "    <tr>\n",
       "      <th>0</th>\n",
       "      <td>https://openalex.org/W3124321814</td>\n",
       "      <td>2013</td>\n",
       "      <td>2060</td>\n",
       "      <td>['https://openalex.org/A5087421071', 'https://...</td>\n",
       "    </tr>\n",
       "    <tr>\n",
       "      <th>1</th>\n",
       "      <td>https://openalex.org/W2137375941</td>\n",
       "      <td>2008</td>\n",
       "      <td>586</td>\n",
       "      <td>['https://openalex.org/A5003697141', 'https://...</td>\n",
       "    </tr>\n",
       "    <tr>\n",
       "      <th>2</th>\n",
       "      <td>https://openalex.org/W2178843456</td>\n",
       "      <td>2015</td>\n",
       "      <td>581</td>\n",
       "      <td>['https://openalex.org/A5027036879', 'https://...</td>\n",
       "    </tr>\n",
       "    <tr>\n",
       "      <th>3</th>\n",
       "      <td>https://openalex.org/W2072514260</td>\n",
       "      <td>2012</td>\n",
       "      <td>539</td>\n",
       "      <td>['https://openalex.org/A5063229424', 'https://...</td>\n",
       "    </tr>\n",
       "    <tr>\n",
       "      <th>4</th>\n",
       "      <td>https://openalex.org/W2972768705</td>\n",
       "      <td>2015</td>\n",
       "      <td>500</td>\n",
       "      <td>['https://openalex.org/A5043002180', 'https://...</td>\n",
       "    </tr>\n",
       "  </tbody>\n",
       "</table>\n",
       "</div>"
      ],
      "text/plain": [
       "                                 id  publication_year  cited_by_count  \\\n",
       "0  https://openalex.org/W3124321814              2013            2060   \n",
       "1  https://openalex.org/W2137375941              2008             586   \n",
       "2  https://openalex.org/W2178843456              2015             581   \n",
       "3  https://openalex.org/W2072514260              2012             539   \n",
       "4  https://openalex.org/W2972768705              2015             500   \n",
       "\n",
       "                                          author_ids  \n",
       "0  ['https://openalex.org/A5087421071', 'https://...  \n",
       "1  ['https://openalex.org/A5003697141', 'https://...  \n",
       "2  ['https://openalex.org/A5027036879', 'https://...  \n",
       "3  ['https://openalex.org/A5063229424', 'https://...  \n",
       "4  ['https://openalex.org/A5043002180', 'https://...  "
      ]
     },
     "execution_count": 10,
     "metadata": {},
     "output_type": "execute_result"
    }
   ],
   "source": [
    "df_papers.head()"
   ]
  },
  {
   "cell_type": "code",
   "execution_count": 11,
   "metadata": {},
   "outputs": [
    {
     "data": {
      "text/html": [
       "<div>\n",
       "<style scoped>\n",
       "    .dataframe tbody tr th:only-of-type {\n",
       "        vertical-align: middle;\n",
       "    }\n",
       "\n",
       "    .dataframe tbody tr th {\n",
       "        vertical-align: top;\n",
       "    }\n",
       "\n",
       "    .dataframe thead th {\n",
       "        text-align: right;\n",
       "    }\n",
       "</style>\n",
       "<table border=\"1\" class=\"dataframe\">\n",
       "  <thead>\n",
       "    <tr style=\"text-align: right;\">\n",
       "      <th></th>\n",
       "      <th>id</th>\n",
       "      <th>display_name</th>\n",
       "      <th>works_api_url</th>\n",
       "      <th>h_index</th>\n",
       "      <th>works_count</th>\n",
       "      <th>country_code</th>\n",
       "    </tr>\n",
       "  </thead>\n",
       "  <tbody>\n",
       "    <tr>\n",
       "      <th>0</th>\n",
       "      <td>https://openalex.org/A5101854927</td>\n",
       "      <td>Hazem Ibrahim</td>\n",
       "      <td>https://api.openalex.org/works?filter=author.i...</td>\n",
       "      <td>12</td>\n",
       "      <td>25</td>\n",
       "      <td>FI</td>\n",
       "    </tr>\n",
       "    <tr>\n",
       "      <th>1</th>\n",
       "      <td>https://openalex.org/A5037300629</td>\n",
       "      <td>Nouar AlDahoul</td>\n",
       "      <td>https://api.openalex.org/works?filter=author.i...</td>\n",
       "      <td>14</td>\n",
       "      <td>88</td>\n",
       "      <td>AE</td>\n",
       "    </tr>\n",
       "    <tr>\n",
       "      <th>2</th>\n",
       "      <td>https://openalex.org/A5007282319</td>\n",
       "      <td>Talal Rahwan</td>\n",
       "      <td>https://api.openalex.org/works?filter=author.i...</td>\n",
       "      <td>32</td>\n",
       "      <td>167</td>\n",
       "      <td>US</td>\n",
       "    </tr>\n",
       "    <tr>\n",
       "      <th>3</th>\n",
       "      <td>https://openalex.org/A5018129441</td>\n",
       "      <td>Yasir Zaki</td>\n",
       "      <td>https://api.openalex.org/works?filter=author.i...</td>\n",
       "      <td>16</td>\n",
       "      <td>127</td>\n",
       "      <td>US</td>\n",
       "    </tr>\n",
       "    <tr>\n",
       "      <th>4</th>\n",
       "      <td>https://openalex.org/A5058939619</td>\n",
       "      <td>Alvin Zhou</td>\n",
       "      <td>https://api.openalex.org/works?filter=author.i...</td>\n",
       "      <td>14</td>\n",
       "      <td>59</td>\n",
       "      <td>US</td>\n",
       "    </tr>\n",
       "  </tbody>\n",
       "</table>\n",
       "</div>"
      ],
      "text/plain": [
       "                                 id    display_name  \\\n",
       "0  https://openalex.org/A5101854927   Hazem Ibrahim   \n",
       "1  https://openalex.org/A5037300629  Nouar AlDahoul   \n",
       "2  https://openalex.org/A5007282319    Talal Rahwan   \n",
       "3  https://openalex.org/A5018129441      Yasir Zaki   \n",
       "4  https://openalex.org/A5058939619      Alvin Zhou   \n",
       "\n",
       "                                       works_api_url  h_index  works_count  \\\n",
       "0  https://api.openalex.org/works?filter=author.i...       12           25   \n",
       "1  https://api.openalex.org/works?filter=author.i...       14           88   \n",
       "2  https://api.openalex.org/works?filter=author.i...       32          167   \n",
       "3  https://api.openalex.org/works?filter=author.i...       16          127   \n",
       "4  https://api.openalex.org/works?filter=author.i...       14           59   \n",
       "\n",
       "  country_code  \n",
       "0           FI  \n",
       "1           AE  \n",
       "2           US  \n",
       "3           US  \n",
       "4           US  "
      ]
     },
     "execution_count": 11,
     "metadata": {},
     "output_type": "execute_result"
    }
   ],
   "source": [
    "df_authors.head()"
   ]
  },
  {
   "cell_type": "code",
   "execution_count": 12,
   "metadata": {},
   "outputs": [
    {
     "ename": "",
     "evalue": "",
     "output_type": "error",
     "traceback": [
      "\u001b[1;31mThe Kernel crashed while executing code in the current cell or a previous cell. \n",
      "\u001b[1;31mPlease review the code in the cell(s) to identify a possible cause of the failure. \n",
      "\u001b[1;31mClick <a href='https://aka.ms/vscodeJupyterKernelCrash'>here</a> for more info. \n",
      "\u001b[1;31mView Jupyter <a href='command:jupyter.viewOutput'>log</a> for further details."
     ]
    }
   ],
   "source": [
    "# Get the co-author pairs for each paper (each row in dataframe)\n",
    "coauthor_pairs = df_papers['author_ids'].apply(lambda x: list(combinations(x, 2))) # find unique combos of 2 authors in author list for each paper\n",
    "\n",
    "# Flatten list of lists into a single list (of tuples as combinations returns tuples) --> using chain from itertools for efficiency\n",
    "flattened_pairs = list(chain.from_iterable(coauthor_pairs))\n",
    "\n",
    "# Count number of co-author pairs\n",
    "coauthor_count = Counter()\n",
    "\n",
    "for sublist in coauthor_pairs: # incrementally count co-author pairs (increase efficiency)\n",
    "    coauthor_count.update(sublist)\n",
    "\n",
    "# Make edgelist\n",
    "edgelist = []\n",
    "for (a, b), count in coauthor_count.items():\n",
    "    edgelist.append((a, b, count))"
   ]
  },
  {
   "cell_type": "markdown",
   "metadata": {},
   "source": [
    "##### Graph construction"
   ]
  },
  {
   "cell_type": "code",
   "execution_count": null,
   "metadata": {},
   "outputs": [],
   "source": [
    "Graph = nx.Graph()\n",
    "Graph.add_weighted_edges_from(edgelist)"
   ]
  },
  {
   "cell_type": "markdown",
   "metadata": {},
   "source": [
    "##### Node attributes"
   ]
  },
  {
   "cell_type": "code",
   "execution_count": null,
   "metadata": {},
   "outputs": [],
   "source": [
    "# First add author attributes: display_name, country \n",
    "\n",
    "for index, row in df_authors.iterrows():\n",
    "    author_id = row['id']\n",
    "    Graph.add_node(author_id, display_name=row['display_name'], country = row['country_code'])\n",
    "\n",
    "# (possibly faster than the for loop above but not sure if it gives the same content) Graph.add_nodes_from(df_authors['id'], display_name = df_authors['display_name'], country = df_authors['country_code'])\n",
    "\n",
    "# Get citation count from df_papers\n",
    "author_citation_counts = df_papers.explode('author_ids').groupby('author_ids')['citations'].sum() # explode to get one author per row, groupby author and sum citations\n",
    "\n",
    "# Add citation count as an attribute to the nodes\n",
    "for author_id, citation_count in author_citation_counts.items(): # (author_citation_counts is a Series where index is author_id and value is citation count)\n",
    "    Graph.nodes[author_id]['citation'] = citation_count\n",
    "\n",
    "# Get first publication year for each author from df_papers\n",
    "first_pub_year = df_papers.explode('author_ids').groupby('author_ids')['publication_year'].min() # explode to get one author per row, groupby author and get min publication year\n",
    "\n",
    "# Add first publication year as an attribute to the nodes\n",
    "for author_id, year in first_pub_year.items(): # (first_pub_year is a Series where index is author_id and value is first publication year)\n",
    "    Graph.nodes[author_id]['first_pub_year'] = year"
   ]
  },
  {
   "cell_type": "code",
   "execution_count": null,
   "metadata": {},
   "outputs": [],
   "source": [
    "# Save the graph as a json file\n",
    "graph_data = json_graph.node_link_data(Graph)\n",
    "with open(\"network.json\", \"w\") as f:\n",
    "    json.dump(graph_data, f, indent = 4) # indent = 4 to make the json file more readable"
   ]
  },
  {
   "cell_type": "markdown",
   "metadata": {},
   "source": [
    "## Part 2: Preliminary Network Analysis\n"
   ]
  },
  {
   "cell_type": "markdown",
   "metadata": {},
   "source": [
    "##### Network Metrics"
   ]
  },
  {
   "cell_type": "code",
   "execution_count": null,
   "metadata": {},
   "outputs": [],
   "source": [
    "num_nodes = Graph.number_of_nodes()\n",
    "num_edges = Graph.number_of_edges()\n",
    "\n",
    "print(f\"Total number of authors is {num_nodes} and total number of collaborations is {num_edges}\")"
   ]
  },
  {
   "cell_type": "code",
   "execution_count": null,
   "metadata": {},
   "outputs": [],
   "source": [
    "max_possible_edges = num_nodes * (num_nodes - 1) / 2 # n choose 2 is max possible edges for an undirected graoh where n is the number of nodes\n",
    "density = num_edges/max_possible_edges\n",
    "print(f\"Density of the network is {density}\")"
   ]
  },
  {
   "cell_type": "markdown",
   "metadata": {},
   "source": [
    "ANSWER THE QUESTION: Would you say that the network is sparse? Justify your answer.\n",
    "(if density is close to 1, the graph is not sparse)"
   ]
  },
  {
   "cell_type": "markdown",
   "metadata": {},
   "source": [
    "Is the network fully connected (i.e., is there a direct or indirect path between every pair of nodes within the network), or is it disconnected?"
   ]
  },
  {
   "cell_type": "code",
   "execution_count": null,
   "metadata": {},
   "outputs": [],
   "source": [
    "# Find number of connected components\n",
    "num_cc = nx.number_connected_components(Graph)\n",
    "print(f\"Number of connected components in the network is {num_cc}\")"
   ]
  },
  {
   "cell_type": "code",
   "execution_count": null,
   "metadata": {},
   "outputs": [],
   "source": [
    "# Find number of isolated nodes\n",
    "num_isolated = len(list(nx.isolates(Graph)))"
   ]
  },
  {
   "cell_type": "markdown",
   "metadata": {},
   "source": [
    "Discuss the results above on network density, and connectivity. Are your findings in line with what you expected? Why?"
   ]
  },
  {
   "cell_type": "markdown",
   "metadata": {},
   "source": [
    "##### Degree Analysis"
   ]
  },
  {
   "cell_type": "code",
   "execution_count": null,
   "metadata": {},
   "outputs": [],
   "source": [
    "# Compute the average, median, mode, minimum, and maximum degree of the nodes\n",
    "\n",
    "# Get the degrees of all the nodes\n",
    "degrees = [degree for node, degree in Graph.degree()]\n",
    "\n",
    "avg_deg = np.mean(degrees)\n",
    "med_deg = np.median(degrees)\n",
    "mode_deg = stats.mode(degrees)[0][0]\n",
    "min_deg = min(degrees)\n",
    "max_deg = max(degrees)"
   ]
  },
  {
   "cell_type": "code",
   "execution_count": null,
   "metadata": {},
   "outputs": [],
   "source": [
    "# Compute the average, median, mode, minimum, and maximum of node strength\n",
    "\n",
    "# Get the strength of all the nodes (for each node, strength is the sum of the weights of the edges incident to that node)\n",
    "strengths = [strength for node, strength in Graph.degree(weight='weight')]\n",
    "avg_str = np.mean(strengths)\n",
    "med_str = np.median(strengths)\n",
    "mode_str = stats.mode(strengths)[0][0]\n",
    "min_str = min(strengths)\n",
    "max_str = max(strengths)"
   ]
  },
  {
   "cell_type": "markdown",
   "metadata": {},
   "source": [
    "What do these metrics tell us about the network?"
   ]
  },
  {
   "cell_type": "markdown",
   "metadata": {},
   "source": [
    "##### Top Authors"
   ]
  },
  {
   "cell_type": "code",
   "execution_count": null,
   "metadata": {},
   "outputs": [],
   "source": [
    "sorted_by_deg = sorted(Graph.degree(), key=lambda x: x[1], reverse=True)\n",
    "top_5_deg = sorted_by_deg[:5]\n",
    "\n",
    "for node, degree in top_5_deg:\n",
    "    print(Graph.nodes[node]['display_name'])"
   ]
  },
  {
   "cell_type": "markdown",
   "metadata": {},
   "source": [
    "What role do these node play in the network?"
   ]
  },
  {
   "cell_type": "markdown",
   "metadata": {},
   "source": [
    "Research these authors online. What areas do they specialize in? Do you think that their work aligns with the themes of Computational Social Science? If not, what could be possible reasons?"
   ]
  }
 ],
 "metadata": {
  "kernelspec": {
   "display_name": ".venv",
   "language": "python",
   "name": "python3"
  },
  "language_info": {
   "codemirror_mode": {
    "name": "ipython",
    "version": 3
   },
   "file_extension": ".py",
   "mimetype": "text/x-python",
   "name": "python",
   "nbconvert_exporter": "python",
   "pygments_lexer": "ipython3",
   "version": "3.10.6"
  }
 },
 "nbformat": 4,
 "nbformat_minor": 2
}

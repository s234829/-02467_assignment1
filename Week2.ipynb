{
 "cells": [
  {
   "cell_type": "markdown",
   "metadata": {},
   "source": [
    "# Week 2"
   ]
  },
  {
   "cell_type": "markdown",
   "metadata": {
    "collapsed": true
   },
   "source": [
    "## Today\n",
    "\n",
    "In this lecture, we will continue to work on the data. As you may have already noticed from the previous class, working with real-world data is not easy! It involves taking one decision after another, to ensure that the results we obtain are reliable. \n",
    "My goal is for you to learn how to take these decisions on your own and understand the consequences that these choices may have on your analysis and results. Today, we will learn more about different data sources for Computational Social Science, and some of the challenges that they present. \n",
    "\n",
    "Here is the plan for the lecture. \n",
    "\n",
    "* **Part 1:** We will learn the differences between **different kinds of data sources**. We will go through the theory, then I will ask you to reflect about what you have learned through an exercise. \n",
    "\n",
    "* **Part 2:**  In the second part of this class, I will introduce you to **APIs**. We will then use one API to continue our investigation of the field of Computational Social Science in a data-driven way.\n",
    "  "
   ]
  },
  {
   "cell_type": "markdown",
   "metadata": {},
   "source": [
    "## Part 1: Data Sources for Computational Social Science\n",
    "\n",
    "\n",
    "We have seen how __DATA__ is central to Computational Social Science. But what data sources are we talking about? What are the limitations of different types of data sources? In the video below, I will give you an introduction to different types of data sources. As an example, I will introduce you to two studies that use two very different datasets to answer related questions. "
   ]
  },
  {
   "cell_type": "markdown",
   "metadata": {},
   "source": [
    "\n",
    "> **_Video lecture_**: Watch the video below about Data Sources in Computational Social Science\n",
    ">\n",
    "> *Optional Reading: [The Spread of Behavior in an Online Social Network Experiment.](https://www.science.org/doi/full/10.1126/science.1185231)* This is the article describing the first study I talk about in the video.    \n",
    "> *Optional Reading: [Exercise contagion in a global social network.](https://www.nature.com/articles/ncomms14753)* This is the article describing the second study I talk about in the video.    "
   ]
  },
  {
   "cell_type": "code",
   "execution_count": 1,
   "metadata": {},
   "outputs": [
    {
     "data": {
      "image/jpeg": "[encoded data removed]",
      "text/html": [
       "\n",
       "        <iframe\n",
       "            width=\"600\"\n",
       "            height=\"337.5\"\n",
       "            src=\"https://www.youtube.com/embed/Hr5yKJaQUhE\"\n",
       "            frameborder=\"0\"\n",
       "            allowfullscreen\n",
       "            \n",
       "        ></iframe>\n",
       "        "
      ],
      "text/plain": [
       "<IPython.lib.display.YouTubeVideo at 0x7f8f1868b880>"
      ]
     },
     "execution_count": 1,
     "metadata": {},
     "output_type": "execute_result"
    }
   ],
   "source": [
    "from IPython.display import YouTubeVideo\n",
    "YouTubeVideo(\"Hr5yKJaQUhE\",width=600, height=337.5)\n"
   ]
  },
  {
   "cell_type": "markdown",
   "metadata": {},
   "source": [
    "In this course, we are going to focus mostly on observational data collected online to address social science questions. So, I would like us to reflect a little bit more on what it means to use *Ready made* data in the social science, and understand its advantages and challenges. This is something that you can read about in Sections 2.1 to 2.3 of the book _Bit by Bit_. \n",
    "\n",
    "> *Reading*: [Bit by Bit, sections 2.1 to 2.3](https://www.bitbybitbook.com/en/1st-ed/observing-behavior/observing-intro/) Read sections 2.1 to 2.3. I don't expect you to read all the details, but to have a general understanding of advantages and challenges of large observational datasets (a.k.a. Big Data/Ready made data) for social science research. *If you have problems accessing the book, you can find a pdf version of the book [here](https://github.com/lalessan/comsocsci2024/tree/main/figures).*"
   ]
  },
  {
   "cell_type": "markdown",
   "metadata": {},
   "source": [
    "> **Exercise 1: Ready made data vs Custom made data** In this exercise, I want to make sure you have understood they key points of my lecture and the reading. Remember to come and ask me, if you have any question about this! \n",
    ">\n",
    "> 1. What are pros and cons of the custom-made data used in Centola's experiment (the first study presented in the lecture) and the ready-made data used in Nicolaides's study (the second study presented in the lecture)? You can support your arguments based on the content of the lecture and the information you read in Chapter 2.3 of the book. \n",
    "> 2. How do you think these differences can influence the interpretation of the results in each study?"
   ]
  },
  {
   "cell_type": "markdown",
   "metadata": {},
   "source": [
    "1. Centola's experiment was the expirement of if a buddy signed up for a health care site, how likely are you to do the same. <br>\n",
    "Pros: Controlled, \n",
    "Cons: expensive, small dataset <br>\n",
    "Nicolaides's experiment runing <br>\n",
    "Pros: able to try to distinctive causation and correlation\n",
    "Cons: systematic error can be hard to catch and can lead to incorrect conclusions\n",
    "2. See 1.\n"
   ]
  },
  {
   "cell_type": "markdown",
   "metadata": {},
   "source": [
    "## Part 2: Using APIs to download  data\n",
    "\n",
    "In this class, we will work with *Ready made* data. The second thing we will learn today is how to get data ready made data using APIs. We will do it using the Academic Graph API provided by Semantic Scholar. The Academic Graph API enables you to gather information on scientists and their publications. "
   ]
  },
  {
   "cell_type": "code",
   "execution_count": 6,
   "metadata": {},
   "outputs": [
    {
     "data": {
      "image/jpeg": "[encoded data removed]",
      "text/html": [
       "\n",
       "        <iframe\n",
       "            width=\"600\"\n",
       "            height=\"337.5\"\n",
       "            src=\"https://www.youtube.com/embed/7AQO3vJptvg\"\n",
       "            frameborder=\"0\"\n",
       "            allowfullscreen\n",
       "            \n",
       "        ></iframe>\n",
       "        "
      ],
      "text/plain": [
       "<IPython.lib.display.YouTubeVideo at 0x7f8ef0910220>"
      ]
     },
     "execution_count": 6,
     "metadata": {},
     "output_type": "execute_result"
    }
   ],
   "source": [
    "from IPython.display import YouTubeVideo\n",
    "YouTubeVideo(\"7AQO3vJptvg\",width=600, height=337.5)\n"
   ]
  },
  {
   "cell_type": "markdown",
   "metadata": {},
   "source": [
    "> **Exercise 2: APIs for Computational Social Science research.** In this excercise, I ask you to look for an API that one could use for Computational Social Science. Starting from your answers, I will compile a list of useful APIs, and share it with the class next week. It may come handy when you start working on your project.\n",
    "> *Note: the answers to the surveys on DTU Learn are not contributing to your final grade, but it is still important to fill them in, because they help me ensure that you are on track with the material.* \n",
    ">\n",
    "> - Use the web to look for one API that could be used for gathering interesting data (from a Computational Social Science perspective). \n",
    ">     - *Data description*: describe in a couple of lines the data types that you can gather using this API\n",
    ">     - *Rate limits*: What are the rate limits of the free version of the API?\n",
    ">     - *Link to the API*: Add the link to the API.\n",
    "> - Go on DTU Learn and fill in the survey *[Week 2 - APIs](https://learn.inside.dtu.dk/d2l/lms/survey/user/attempt/survey_start_frame.d2l?si=31329&ou=242061)*\n"
   ]
  },
  {
   "cell_type": "markdown",
   "metadata": {},
   "source": [
    "## Prelude to part 3: Pandas Dataframes\n"
   ]
  },
  {
   "cell_type": "markdown",
   "metadata": {},
   "source": [
    "Before starting, we will learn a bit about [pandas dataframes](https://pandas.pydata.org/pandas-docs/stable/generated/pandas.DataFrame.html), a very user-friendly data structure that you can use to manipulate tabular data. Pandas dataframes are built using numpy, which is in turn built in C, so they are a quite efficient data structure. You will find it quite useful :)\n",
    "\n",
    "Pandas dataframes should be intuitive to use. **I suggest you to go through the [10 minutes to Pandas tutorial](https://pandas.pydata.org/pandas-docs/stable/user_guide/10min.html) to learn what you need to follow the rest of the course.**\n",
    "\n",
    "\n",
    "\n",
    "\n",
    "**_Video lecture_**: Watch the video below about Pandas, [here is the notebook I used in the video](https://nbviewer.org/github/TheYuanLiao/comsocsci2025/blob/main/additional_notebooks/Pandas.ipynb) "
   ]
  },
  {
   "cell_type": "code",
   "execution_count": 9,
   "metadata": {},
   "outputs": [
    {
     "data": {
      "image/jpeg": "[encoded data removed]",
      "text/html": [
       "\n",
       "        <iframe\n",
       "            width=\"600\"\n",
       "            height=\"337.5\"\n",
       "            src=\"https://www.youtube.com/embed/pM7IKcyfOV4\"\n",
       "            frameborder=\"0\"\n",
       "            allowfullscreen\n",
       "            \n",
       "        ></iframe>\n",
       "        "
      ],
      "text/plain": [
       "<IPython.lib.display.YouTubeVideo at 0x7f8ef0910280>"
      ]
     },
     "execution_count": 9,
     "metadata": {},
     "output_type": "execute_result"
    }
   ],
   "source": [
    "from IPython.display import YouTubeVideo\n",
    "YouTubeVideo(\"pM7IKcyfOV4\",width=600, height=337.5)"
   ]
  },
  {
   "cell_type": "markdown",
   "metadata": {},
   "source": [
    "## Part 3: Getting data on Computational Social Scientists from the OpenAlex API"
   ]
  },
  {
   "cell_type": "markdown",
   "metadata": {},
   "source": [
    "All right, let's dive in! We're going to start collecting data on Computational Social Scientists and their work. \n",
    "As you will see, getting to the final dataset will take a few iterations and will require you to handle lots of data, but I'm confident you'll find it rewarding in the end. \n",
    "To help you throughout, I've broken down the process into manageable steps and provided strategies to help you tackle each one effectively.\n",
    "\n",
    "Feel free to team up with a classmate or two for this project (remember, you'll be submitting assignments as a group of three). \n",
    "If you run into any issues or have questions, don't hesitate to ask me. Working with real-world data can be frustrating at times, but I'm here to help!"
   ]
  },
  {
   "cell_type": "markdown",
   "metadata": {},
   "source": [
    "> **Exercise : Find potential Computational Social Scientists** In this exercise, we'll use the OpenAlex API to compile a list of researchers in the field of Computational Social Science, focusing on those who have attended the IC2S2 conference in **2024** (NOT 2023). This will not only later on help you understand the landscape of Computational Social Science research but also develop practical skills in data collection and analysis.\n",
    ">\n",
    "> Please read the text of the whole exercise before starting to work on it. \n",
    ">\n",
    "> **Steps**\n",
    "> \n",
    "> 1. **Retreive data.** Consider the set of unique researcher names that you collected in Week 1, Exercise 3. Use the _authors_ endpoint of the [OpenAlex API](https://docs.openalex.org/api-entities/authors) to _search_ these researchers in the database based on their names. Loop through the list and, for each researcher in your list, find: \n",
    ">     - their _id_: The OpenAlex ID for this author.\n",
    ">     - their _display\\_name_: The name of the author as a single string.\n",
    ">     - their _works\\_api\\_url_: A URL that will get you a list of all this author's works.\n",
    ">     - their _h\\_index_ : The h-index for this author.\n",
    ">     - their _works\\_count_: The number of Works this author has created.\n",
    ">     - their _country\\_code_: The country code of their last known institution.\n",
    "> 2. **Data Storage** Store this information in a Pandas DataFrame and save it to file.\n",
    ">    \n",
    "> **Handling Challenges**\n",
    "> \n",
    "> While working on the steps above, you will face several challenges, such as missing names or multiple results for a single name. Here are some of the issues you may run into and a possible way to address them. *Note: you may also find other ways to address these issues, which is ok. However, if you decide to use a different strategy, please come and talk to me first*\n",
    ">    - *Problem:* an author is not found. *A possible solution:* you can discard that author.\n",
    ">    - *Problem:* you get more than one result for the same name. *A possible solution:* You can pick the name with the highest relevance.\n",
    ">    - *Problem:* None of the authors returned by the API has a name that is ``close enough'' to the name you searched for. *A possible solution:* you can discard that author.\n",
    ">    - *Problem:* Your for loop keeps breaking due to unforeseen errors. *A possible solution:* to prevent losing data due to errors, save your progress frequently.\n",
    ">\n",
    "> **Reflection Questions**\n",
    "> \n",
    ">  Answer the following questions: \n",
    ">    - Did you encounter any challenges not listed here? How did you address them?\n",
    ">    - Choose one problem you faced while collecting the data and describe your solution. Why did you choose this approach, and what impact might it have on your data? \n",
    ">      \n",
    "> Remember, if you're unsure about any steps or encounter hurdles, please reach out."
   ]
  },
  {
   "cell_type": "markdown",
   "metadata": {},
   "source": [
    "getting the list 2024"
   ]
  },
  {
   "cell_type": "code",
   "execution_count": 1,
   "metadata": {},
   "outputs": [],
   "source": [
    "import pandas as pd\n",
    "import requests\n",
    "import time"
   ]
  },
  {
   "cell_type": "code",
   "execution_count": 2,
   "metadata": {},
   "outputs": [
    {
     "data": {
      "text/plain": [
       "1231"
      ]
     },
     "execution_count": 2,
     "metadata": {},
     "output_type": "execute_result"
    }
   ],
   "source": [
    "rows_2024 = []\n",
    "oral = pd.read_excel(\"IC2S2_2024_oral_panels.xlsx\")[\"Presentation authors\"]\n",
    "poster = pd.read_excel(\"IC2S2_2024_posters.xlsx\")[\"Poster authors\"]\n",
    "talks = pd.read_excel(\"IC2S2_2024_lightning_talks.xlsx\")[\"Presentation authors\"]\n",
    "excel_list = [oral,poster,talks]\n",
    "for file in excel_list:\n",
    "    for row in file:\n",
    "        for line in row.split(\";\"):\n",
    "            name = line.split(\",\")[0]\n",
    "            name = name.strip()\n",
    "            if name not in rows_2024:\n",
    "                rows_2024.append(name)\n",
    "len(rows_2024)"
   ]
  },
  {
   "cell_type": "code",
   "execution_count": 3,
   "metadata": {},
   "outputs": [
    {
     "data": {
      "text/plain": [
       "'Alvin Zhou'"
      ]
     },
     "execution_count": 3,
     "metadata": {},
     "output_type": "execute_result"
    }
   ],
   "source": [
    "rows_2024[4]"
   ]
  },
  {
   "cell_type": "code",
   "execution_count": 14,
   "metadata": {},
   "outputs": [
    {
     "name": "stdout",
     "output_type": "stream",
     "text": [
      "Error 403: {\"error\":\"Invalid query parameters error.\",\"message\":\" Santa Fe Institute) is not a valid parameter. Valid parameters are: apc_sum, cited_by_count_sum, cursor, filter, format, group_by, group-by, group_bys, group-bys, mailto, page, per_page, per-page, q, sample, seed, search, select, sort, warm.\"}\n",
      "\n"
     ]
    }
   ],
   "source": [
    "base_url = \"https://api.openalex.org/authors\"\n",
    "filter = \"?filter=display_name.search:\"\n",
    "# wanted_columns = [\"id\", \"display_name\", \"works_api_url\",  \"h_index\", \"works_count\",\"Contry_code\"]\n",
    "data_list = []\n",
    "sort = \"&sort=relevance_score:desc\"\n",
    "\n",
    "for name in rows_2024:\n",
    "    my_url = base_url + filter + name + sort\n",
    "    try:\n",
    "        response = requests.get(my_url)\n",
    "        \n",
    "        if response.status_code == 429:  # Too Many Requests\n",
    "            time.sleep(1)\n",
    "            response = requests.get(my_url)\n",
    "        \n",
    "        # Check if the response is empty or not OK\n",
    "        if response.status_code != 200:\n",
    "            print(f\"Error {response.status_code}: {response.text}\")\n",
    "            continue  # Skip this name and move to the next one\n",
    "\n",
    "\n",
    "        json_data = response.json()\n",
    "\n",
    "        if \"results\" in json_data and json_data[\"results\"]:\n",
    "            person = json_data[\"results\"][0]\n",
    "            data_list.append({\n",
    "                \"id\": person.get(\"id\"),\n",
    "                \"display_name\": person.get(\"display_name\"),\n",
    "                \"works_api_url\": person.get(\"works_api_url\"),\n",
    "                \"works_count\": person.get(\"works_count\"),\n",
    "                \"cited_by_count\": person.get(\"cited_by_count\"),\n",
    "                \"h_index\": person.get(\"summary_stats\", {}).get(\"h_index\", None),\n",
    "                \"country_code\": (person.get(\"affiliations\", [{}])[0].get(\"institution\", {}).get(\"country_code\", None) \n",
    "                         if person.get(\"affiliations\") else None)\n",
    "            })\n",
    "\n",
    "        \n",
    "        time.sleep(0.1)\n",
    "    \n",
    "    except requests.exceptions.RequestException as e:\n",
    "        print(f\"Request failed: {e}\")\n",
    "    except ValueError as e:\n",
    "        print(f\"JSON decoding failed: {e}\")"
   ]
  },
  {
   "cell_type": "code",
   "execution_count": 15,
   "metadata": {},
   "outputs": [
    {
     "data": {
      "text/plain": [
       "{'id': 'https://openalex.org/A5107545627',\n",
       " 'orcid': None,\n",
       " 'display_name': 'Maya Josifovska',\n",
       " 'display_name_alternatives': ['Maya Josifovska'],\n",
       " 'relevance_score': 51.351402,\n",
       " 'works_count': 1,\n",
       " 'cited_by_count': 0,\n",
       " 'summary_stats': {'2yr_mean_citedness': 0.0, 'h_index': 0, 'i10_index': 0},\n",
       " 'ids': {'openalex': 'https://openalex.org/A5107545627'},\n",
       " 'affiliations': [],\n",
       " 'last_known_institutions': [],\n",
       " 'topics': [{'id': 'https://openalex.org/T12225',\n",
       "   'display_name': 'Political Influence and Corporate Strategies',\n",
       "   'count': 1,\n",
       "   'subfield': {'id': 'https://openalex.org/subfields/1408',\n",
       "    'display_name': 'Strategy and Management'},\n",
       "   'field': {'id': 'https://openalex.org/fields/14',\n",
       "    'display_name': 'Business, Management and Accounting'},\n",
       "   'domain': {'id': 'https://openalex.org/domains/2',\n",
       "    'display_name': 'Social Sciences'}},\n",
       "  {'id': 'https://openalex.org/T11995',\n",
       "   'display_name': 'FinTech, Crowdfunding, Digital Finance',\n",
       "   'count': 1,\n",
       "   'subfield': {'id': 'https://openalex.org/subfields/1404',\n",
       "    'display_name': 'Management Information Systems'},\n",
       "   'field': {'id': 'https://openalex.org/fields/14',\n",
       "    'display_name': 'Business, Management and Accounting'},\n",
       "   'domain': {'id': 'https://openalex.org/domains/2',\n",
       "    'display_name': 'Social Sciences'}},\n",
       "  {'id': 'https://openalex.org/T11239',\n",
       "   'display_name': 'Social Capital and Networks',\n",
       "   'count': 1,\n",
       "   'subfield': {'id': 'https://openalex.org/subfields/3312',\n",
       "    'display_name': 'Sociology and Political Science'},\n",
       "   'field': {'id': 'https://openalex.org/fields/33',\n",
       "    'display_name': 'Social Sciences'},\n",
       "   'domain': {'id': 'https://openalex.org/domains/2',\n",
       "    'display_name': 'Social Sciences'}}],\n",
       " 'topic_share': [{'id': 'https://openalex.org/T11239',\n",
       "   'display_name': 'Social Capital and Networks',\n",
       "   'value': 1.75e-05,\n",
       "   'subfield': {'id': 'https://openalex.org/subfields/3312',\n",
       "    'display_name': 'Sociology and Political Science'},\n",
       "   'field': {'id': 'https://openalex.org/fields/33',\n",
       "    'display_name': 'Social Sciences'},\n",
       "   'domain': {'id': 'https://openalex.org/domains/2',\n",
       "    'display_name': 'Social Sciences'}},\n",
       "  {'id': 'https://openalex.org/T12225',\n",
       "   'display_name': 'Political Influence and Corporate Strategies',\n",
       "   'value': 1.54e-05,\n",
       "   'subfield': {'id': 'https://openalex.org/subfields/1408',\n",
       "    'display_name': 'Strategy and Management'},\n",
       "   'field': {'id': 'https://openalex.org/fields/14',\n",
       "    'display_name': 'Business, Management and Accounting'},\n",
       "   'domain': {'id': 'https://openalex.org/domains/2',\n",
       "    'display_name': 'Social Sciences'}},\n",
       "  {'id': 'https://openalex.org/T11995',\n",
       "   'display_name': 'FinTech, Crowdfunding, Digital Finance',\n",
       "   'value': 8.2e-06,\n",
       "   'subfield': {'id': 'https://openalex.org/subfields/1404',\n",
       "    'display_name': 'Management Information Systems'},\n",
       "   'field': {'id': 'https://openalex.org/fields/14',\n",
       "    'display_name': 'Business, Management and Accounting'},\n",
       "   'domain': {'id': 'https://openalex.org/domains/2',\n",
       "    'display_name': 'Social Sciences'}}],\n",
       " 'x_concepts': [{'id': 'https://openalex.org/C15744967',\n",
       "   'wikidata': 'https://www.wikidata.org/wiki/Q9418',\n",
       "   'display_name': 'Psychology',\n",
       "   'level': 0,\n",
       "   'score': 100.0},\n",
       "  {'id': 'https://openalex.org/C17744445',\n",
       "   'wikidata': 'https://www.wikidata.org/wiki/Q36442',\n",
       "   'display_name': 'Political science',\n",
       "   'level': 0,\n",
       "   'score': 100.0},\n",
       "  {'id': 'https://openalex.org/C33923547',\n",
       "   'wikidata': 'https://www.wikidata.org/wiki/Q395',\n",
       "   'display_name': 'Mathematics',\n",
       "   'level': 0,\n",
       "   'score': 100.0},\n",
       "  {'id': 'https://openalex.org/C36289849',\n",
       "   'wikidata': 'https://www.wikidata.org/wiki/Q34749',\n",
       "   'display_name': 'Social science',\n",
       "   'level': 1,\n",
       "   'score': 100.0},\n",
       "  {'id': 'https://openalex.org/C41008148',\n",
       "   'wikidata': 'https://www.wikidata.org/wiki/Q21198',\n",
       "   'display_name': 'Computer science',\n",
       "   'level': 0,\n",
       "   'score': 100.0},\n",
       "  {'id': 'https://openalex.org/C77805123',\n",
       "   'wikidata': 'https://www.wikidata.org/wiki/Q161272',\n",
       "   'display_name': 'Social psychology',\n",
       "   'level': 1,\n",
       "   'score': 100.0},\n",
       "  {'id': 'https://openalex.org/C94625758',\n",
       "   'wikidata': 'https://www.wikidata.org/wiki/Q7163',\n",
       "   'display_name': 'Politics',\n",
       "   'level': 2,\n",
       "   'score': 100.0},\n",
       "  {'id': 'https://openalex.org/C114614502',\n",
       "   'wikidata': 'https://www.wikidata.org/wiki/Q76592',\n",
       "   'display_name': 'Combinatorics',\n",
       "   'level': 1,\n",
       "   'score': 100.0},\n",
       "  {'id': 'https://openalex.org/C144024400',\n",
       "   'wikidata': 'https://www.wikidata.org/wiki/Q21201',\n",
       "   'display_name': 'Sociology',\n",
       "   'level': 0,\n",
       "   'score': 100.0},\n",
       "  {'id': 'https://openalex.org/C199539241',\n",
       "   'wikidata': 'https://www.wikidata.org/wiki/Q7748',\n",
       "   'display_name': 'Law',\n",
       "   'level': 1,\n",
       "   'score': 100.0},\n",
       "  {'id': 'https://openalex.org/C2522767166',\n",
       "   'wikidata': 'https://www.wikidata.org/wiki/Q2374463',\n",
       "   'display_name': 'Data science',\n",
       "   'level': 1,\n",
       "   'score': 100.0},\n",
       "  {'id': 'https://openalex.org/C2779812341',\n",
       "   'wikidata': 'https://www.wikidata.org/wiki/Q5891525',\n",
       "   'display_name': 'Homophily',\n",
       "   'level': 2,\n",
       "   'score': 100.0}],\n",
       " 'counts_by_year': [{'year': 2024, 'works_count': 1, 'cited_by_count': 0}],\n",
       " 'works_api_url': 'https://api.openalex.org/works?filter=author.id:A5107545627',\n",
       " 'updated_date': '2025-01-21T17:15:41.790971',\n",
       " 'created_date': '2024-09-30'}"
      ]
     },
     "execution_count": 15,
     "metadata": {},
     "output_type": "execute_result"
    }
   ],
   "source": [
    "json_data[\"results\"][0]"
   ]
  },
  {
   "cell_type": "code",
   "execution_count": 16,
   "metadata": {},
   "outputs": [
    {
     "name": "stdout",
     "output_type": "stream",
     "text": [
      "                                 id    display_name  \\\n",
      "0  https://openalex.org/A5101854927   Hazem Ibrahim   \n",
      "1  https://openalex.org/A5037300629  Nouar AlDahoul   \n",
      "2  https://openalex.org/A5007282319    Talal Rahwan   \n",
      "3  https://openalex.org/A5018129441      Yasir Zaki   \n",
      "4  https://openalex.org/A5058939619      Alvin Zhou   \n",
      "\n",
      "                                       works_api_url  works_count  \\\n",
      "0  https://api.openalex.org/works?filter=author.i...           25   \n",
      "1  https://api.openalex.org/works?filter=author.i...           88   \n",
      "2  https://api.openalex.org/works?filter=author.i...          167   \n",
      "3  https://api.openalex.org/works?filter=author.i...          125   \n",
      "4  https://api.openalex.org/works?filter=author.i...           59   \n",
      "\n",
      "   cited_by_count  h_index country_code  \n",
      "0             649       12           FI  \n",
      "1             562       14           AE  \n",
      "2            4043       32           AE  \n",
      "3            1316       16           AE  \n",
      "4            1006       14           US  \n"
     ]
    }
   ],
   "source": [
    "df = pd.DataFrame(data_list)\n",
    "print(df.head())\n",
    "df.to_csv(\"test.csv\")"
   ]
  }
 ],
 "metadata": {
  "anaconda-cloud": {},
  "kernelspec": {
   "display_name": "Python 3",
   "language": "python",
   "name": "python3"
  },
  "language_info": {
   "codemirror_mode": {
    "name": "ipython",
    "version": 3
   },
   "file_extension": ".py",
   "mimetype": "text/x-python",
   "name": "python",
   "nbconvert_exporter": "python",
   "pygments_lexer": "ipython3",
   "version": "3.12.8"
  }
 },
 "nbformat": 4,
 "nbformat_minor": 4
}

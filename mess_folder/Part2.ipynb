{
 "cells": [
  {
   "cell_type": "markdown",
   "metadata": {},
   "source": [
    "### Part 2: Ready Made vs Custom Made Data"
   ]
  },
  {
   "cell_type": "markdown",
   "metadata": {},
   "source": [
    "Exercise: Ready made data vs Custom made data In this exercise, I want to make sure you have understood they key points of my lecture and the reading.\n",
    "\n",
    "What are pros and cons of the custom-made data used in Centola's experiment (the first study presented in the lecture) and the ready-made data used in Nicolaides's study (the second study presented in the lecture)? You can support your arguments based on the content of the lecture and the information you read in Chapter 2.3 of the book (answer in max 150 words).\n",
    "\n",
    "One of the advantages of using custom-made data in Centola’s experiment was that it allowed researchers to directly track how people’s behaviours affected that of their buddies depending on whether they registered for the health website after their buddies did. However, it is possible that individuals who registered might have been influenced by people other than their assigned “buddies” as the study did not control for external influences, which could have potentially affected the results. \n",
    "\n",
    "Some of the pros of using ready-made data in Nicolaide’s study is the large sample size and intended time scale of the data since the researchers had access to a vast dataset from the fitness tracking app. However, with observational data, data completeness poses a challenge as users might forget to log runs, use different fitness tracking apps, or have inconsistencies in reporting, affecting data reliability. "
   ]
  },
  {
   "cell_type": "markdown",
   "metadata": {},
   "source": [
    "How do you think these differences can influence the interpretation of the results in each study?\n",
    "\n",
    "Centola’s study controlled how participants were assigned to the two networks by randomly assigning new registers to either one. Hence, using custom-made data here provided stronger causal conclusions. However, the study did not control for external influences on participants’ behaviours, which reduces the reliability and accuracy of the results. \n",
    "\n",
    "Nicolaide’s study uses ready-made data which reflects real-world behaviour better than the Centola study, making the findings more externally valid, i.e., the findings of the study are more generalizable. However, the results might be affected if the data was not reliable, for example, users might have been influenced by their friends running but forgot to log their run. \n",
    "\n",
    "Hence, Centola’s study might be more reliable in showing how behaviours spread while Nicolaides’s study gives more insights into whether social influence affects fitness habits. \n"
   ]
  }
 ],
 "metadata": {
  "language_info": {
   "name": "python"
  }
 },
 "nbformat": 4,
 "nbformat_minor": 2
}
